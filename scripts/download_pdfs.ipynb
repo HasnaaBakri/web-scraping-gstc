{
 "cells": [
  {
   "cell_type": "markdown",
   "id": "c640f6a4",
   "metadata": {},
   "source": [
    "Download_pdfs"
   ]
  },
  {
   "cell_type": "code",
   "execution_count": null,
   "id": "c091c442",
   "metadata": {},
   "outputs": [
    {
     "name": "stdout",
     "output_type": "stream",
     "text": [
      "\n",
      "📄 جاري قراءة الروابط من: ../data/gstc_pdf_links_2020.txt\n",
      "📥 عدد الملفات المطلوب تحميلها من ../data/gstc_pdf_links_2020.txt: 12 (بعد الفلترة)\n",
      "\n",
      "⬇️ (1/12) من ../data/gstc_pdf_links_2020.txt - جاري تحميل: ../data/2020\\ISZR-2020.pdf\n"
     ]
    },
    {
     "name": "stderr",
     "output_type": "stream",
     "text": [
      "ISZR-2020.pdf: 100%|██████████████████████████| 140k/140k [00:00<00:00, 396kB/s]\n"
     ]
    },
    {
     "name": "stdout",
     "output_type": "stream",
     "text": [
      "\n",
      "⬇️ (2/12) من ../data/gstc_pdf_links_2020.txt - جاري تحميل: ../data/2020\\ISZR-2020-31.pdf\n"
     ]
    },
    {
     "name": "stderr",
     "output_type": "stream",
     "text": [
      "ISZR-2020-31.pdf: 100%|███████████████████████| 140k/140k [00:00<00:00, 507kB/s]\n"
     ]
    },
    {
     "name": "stdout",
     "output_type": "stream",
     "text": [
      "\n",
      "⬇️ (3/12) من ../data/gstc_pdf_links_2020.txt - جاري تحميل: ../data/2020\\ISZR-2020-36.pdf\n"
     ]
    },
    {
     "name": "stderr",
     "output_type": "stream",
     "text": [
      "ISZR-2020-36.pdf: 100%|███████████████████████| 142k/142k [00:00<00:00, 485kB/s]\n"
     ]
    },
    {
     "name": "stdout",
     "output_type": "stream",
     "text": [
      "\n",
      "⬇️ (4/12) من ../data/gstc_pdf_links_2020.txt - جاري تحميل: ../data/2020\\ISZR-2020-37.pdf\n"
     ]
    },
    {
     "name": "stderr",
     "output_type": "stream",
     "text": [
      "ISZR-2020-37.pdf: 100%|███████████████████████| 140k/140k [00:00<00:00, 508kB/s]\n"
     ]
    },
    {
     "name": "stdout",
     "output_type": "stream",
     "text": [
      "\n",
      "⬇️ (5/12) من ../data/gstc_pdf_links_2020.txt - جاري تحميل: ../data/2020\\ISZR-2020-39.pdf\n"
     ]
    },
    {
     "name": "stderr",
     "output_type": "stream",
     "text": [
      "ISZR-2020-39.pdf: 100%|███████████████████████| 143k/143k [00:00<00:00, 533kB/s]\n"
     ]
    },
    {
     "name": "stdout",
     "output_type": "stream",
     "text": [
      "\n",
      "⬇️ (6/12) من ../data/gstc_pdf_links_2020.txt - جاري تحميل: ../data/2020\\ISZR-2020-40.pdf\n"
     ]
    },
    {
     "name": "stderr",
     "output_type": "stream",
     "text": [
      "ISZR-2020-40.pdf: 100%|███████████████████████| 143k/143k [00:00<00:00, 509kB/s]\n"
     ]
    },
    {
     "name": "stdout",
     "output_type": "stream",
     "text": [
      "\n",
      "⬇️ (7/12) من ../data/gstc_pdf_links_2020.txt - جاري تحميل: ../data/2020\\ISZR-2020-41.pdf\n"
     ]
    },
    {
     "name": "stderr",
     "output_type": "stream",
     "text": [
      "ISZR-2020-41.pdf: 100%|███████████████████████| 141k/141k [00:00<00:00, 557kB/s]\n"
     ]
    },
    {
     "name": "stdout",
     "output_type": "stream",
     "text": [
      "\n",
      "⬇️ (8/12) من ../data/gstc_pdf_links_2020.txt - جاري تحميل: ../data/2020\\ISZR-2020-42.pdf\n"
     ]
    },
    {
     "name": "stderr",
     "output_type": "stream",
     "text": [
      "ISZR-2020-42.pdf: 100%|███████████████████████| 152k/152k [00:00<00:00, 621kB/s]\n"
     ]
    },
    {
     "name": "stdout",
     "output_type": "stream",
     "text": [
      "\n",
      "⬇️ (9/12) من ../data/gstc_pdf_links_2020.txt - جاري تحميل: ../data/2020\\ISZR-2020-43.pdf\n"
     ]
    },
    {
     "name": "stderr",
     "output_type": "stream",
     "text": [
      "ISZR-2020-43.pdf: 100%|███████████████████████| 145k/145k [00:00<00:00, 474kB/s]\n"
     ]
    },
    {
     "name": "stdout",
     "output_type": "stream",
     "text": [
      "\n",
      "⬇️ (10/12) من ../data/gstc_pdf_links_2020.txt - جاري تحميل: ../data/2020\\ISZR-2020-44.pdf\n"
     ]
    },
    {
     "name": "stderr",
     "output_type": "stream",
     "text": [
      "ISZR-2020-44.pdf: 100%|███████████████████████| 145k/145k [00:00<00:00, 353kB/s]\n"
     ]
    },
    {
     "name": "stdout",
     "output_type": "stream",
     "text": [
      "\n",
      "⬇️ (11/12) من ../data/gstc_pdf_links_2020.txt - جاري تحميل: ../data/2020\\ISZR-2020-48.pdf\n"
     ]
    },
    {
     "name": "stderr",
     "output_type": "stream",
     "text": [
      "ISZR-2020-48.pdf: 100%|███████████████████████| 148k/148k [00:00<00:00, 363kB/s]\n"
     ]
    },
    {
     "name": "stdout",
     "output_type": "stream",
     "text": [
      "\n",
      "⬇️ (12/12) من ../data/gstc_pdf_links_2020.txt - جاري تحميل: ../data/2020\\ISZR-2020-53.pdf\n"
     ]
    },
    {
     "name": "stderr",
     "output_type": "stream",
     "text": [
      "ISZR-2020-53.pdf: 100%|███████████████████████| 157k/157k [00:00<00:00, 555kB/s]\n"
     ]
    },
    {
     "name": "stdout",
     "output_type": "stream",
     "text": [
      "\n",
      "📄 جاري قراءة الروابط من: ../data/gstc_pdf_links_2021.txt\n",
      "📥 عدد الملفات المطلوب تحميلها من ../data/gstc_pdf_links_2021.txt: 12 (بعد الفلترة)\n",
      "\n",
      "⬇️ (1/12) من ../data/gstc_pdf_links_2021.txt - جاري تحميل: ../data/2021\\VD-2021-313.pdf\n"
     ]
    },
    {
     "name": "stderr",
     "output_type": "stream",
     "text": [
      "VD-2021-313.pdf: 100%|████████████████████████| 262k/262k [00:00<00:00, 472kB/s]\n"
     ]
    },
    {
     "name": "stdout",
     "output_type": "stream",
     "text": [
      "\n",
      "⬇️ (2/12) من ../data/gstc_pdf_links_2021.txt - جاري تحميل: ../data/2021\\ITR-2021-269.pdf\n"
     ]
    },
    {
     "name": "stderr",
     "output_type": "stream",
     "text": [
      "ITR-2021-269.pdf: 100%|███████████████████████| 323k/323k [00:00<00:00, 328kB/s]\n"
     ]
    },
    {
     "name": "stdout",
     "output_type": "stream",
     "text": [
      "\n",
      "⬇️ (3/12) من ../data/gstc_pdf_links_2021.txt - جاري تحميل: ../data/2021\\ITR-2021-270.pdf\n"
     ]
    },
    {
     "name": "stderr",
     "output_type": "stream",
     "text": [
      "ITR-2021-270.pdf: 100%|███████████████████████| 322k/322k [00:00<00:00, 559kB/s]\n"
     ]
    },
    {
     "name": "stdout",
     "output_type": "stream",
     "text": [
      "\n",
      "⬇️ (4/12) من ../data/gstc_pdf_links_2021.txt - جاري تحميل: ../data/2021\\ITR-2021-271.pdf\n"
     ]
    },
    {
     "name": "stderr",
     "output_type": "stream",
     "text": [
      "ITR-2021-271.pdf: 100%|███████████████████████| 322k/322k [00:00<00:00, 389kB/s]\n"
     ]
    },
    {
     "name": "stdout",
     "output_type": "stream",
     "text": [
      "\n",
      "⬇️ (5/12) من ../data/gstc_pdf_links_2021.txt - جاري تحميل: ../data/2021\\ITR-2021-298.pdf\n"
     ]
    },
    {
     "name": "stderr",
     "output_type": "stream",
     "text": [
      "ITR-2021-298.pdf: 100%|███████████████████████| 340k/340k [00:00<00:00, 598kB/s]\n"
     ]
    },
    {
     "name": "stdout",
     "output_type": "stream",
     "text": [
      "\n",
      "⬇️ (6/12) من ../data/gstc_pdf_links_2021.txt - جاري تحميل: ../data/2021\\ITR-2021-299.pdf\n"
     ]
    },
    {
     "name": "stderr",
     "output_type": "stream",
     "text": [
      "ITR-2021-299.pdf: 100%|███████████████████████| 339k/339k [00:01<00:00, 276kB/s]\n"
     ]
    },
    {
     "name": "stdout",
     "output_type": "stream",
     "text": [
      "\n",
      "⬇️ (7/12) من ../data/gstc_pdf_links_2021.txt - جاري تحميل: ../data/2021\\ITR-2021-300.pdf\n"
     ]
    },
    {
     "name": "stderr",
     "output_type": "stream",
     "text": [
      "ITR-2021-300.pdf: 100%|███████████████████████| 340k/340k [00:00<00:00, 641kB/s]\n"
     ]
    },
    {
     "name": "stdout",
     "output_type": "stream",
     "text": [
      "\n",
      "⬇️ (8/12) من ../data/gstc_pdf_links_2021.txt - جاري تحميل: ../data/2021\\VR-2021-143.pdf\n"
     ]
    },
    {
     "name": "stderr",
     "output_type": "stream",
     "text": [
      "VR-2021-143.pdf: 100%|████████████████████████| 234k/234k [00:00<00:00, 537kB/s]\n"
     ]
    },
    {
     "name": "stdout",
     "output_type": "stream",
     "text": [
      "\n",
      "⬇️ (9/12) من ../data/gstc_pdf_links_2021.txt - جاري تحميل: ../data/2021\\VSR-2021-292.pdf\n"
     ]
    },
    {
     "name": "stderr",
     "output_type": "stream",
     "text": [
      "VSR-2021-292.pdf: 100%|███████████████████████| 327k/327k [00:00<00:00, 686kB/s]\n"
     ]
    },
    {
     "name": "stdout",
     "output_type": "stream",
     "text": [
      "\n",
      "⬇️ (10/12) من ../data/gstc_pdf_links_2021.txt - جاري تحميل: ../data/2021\\VTR-2021-243.pdf\n"
     ]
    },
    {
     "name": "stderr",
     "output_type": "stream",
     "text": [
      "VTR-2021-243.pdf: 100%|███████████████████████| 363k/363k [00:00<00:00, 588kB/s]\n"
     ]
    },
    {
     "name": "stdout",
     "output_type": "stream",
     "text": [
      "\n",
      "⬇️ (11/12) من ../data/gstc_pdf_links_2021.txt - جاري تحميل: ../data/2021\\VTR-2021-331.pdf\n"
     ]
    },
    {
     "name": "stderr",
     "output_type": "stream",
     "text": [
      "VTR-2021-331.pdf: 100%|███████████████████████| 515k/515k [00:00<00:00, 619kB/s]\n"
     ]
    },
    {
     "name": "stdout",
     "output_type": "stream",
     "text": [
      "\n",
      "⬇️ (12/12) من ../data/gstc_pdf_links_2021.txt - جاري تحميل: ../data/2021\\IFR-2021-126.pdf\n"
     ]
    },
    {
     "name": "stderr",
     "output_type": "stream",
     "text": [
      "IFR-2021-126.pdf: 100%|███████████████████████| 181k/181k [00:00<00:00, 319kB/s]"
     ]
    },
    {
     "name": "stdout",
     "output_type": "stream",
     "text": [
      "\n",
      "✅✅✅ تم تحميل جميع الملفات من جميع الملفات النصية بنجاح.\n"
     ]
    },
    {
     "name": "stderr",
     "output_type": "stream",
     "text": [
      "\n"
     ]
    }
   ],
   "source": [
    "import os\n",
    "import requests\n",
    "from tqdm import tqdm  #pip install tqdm\n",
    "\n",
    "\n",
    "base_download_folder = \"../data/\"\n",
    "chunk_size = 1024 * 1024  # حجم كل شريحة: 1 ميجابايت\n",
    "\n",
    "# ملفات الروابط التي سيتم تحميلها\n",
    "link_files = [\"../data/gstc_pdf_links_2020.txt\", \"../data/gstc_pdf_links_2021.txt\"]\n",
    "\n",
    "def get_unique_filename(path):\n",
    "    \"\"\"لو الملف موجود، يرجّع اسم جديد بترقيم زي (1), (2), ...\"\"\"\n",
    "    if not os.path.exists(path):\n",
    "        return path\n",
    "    base, ext = os.path.splitext(path)\n",
    "    i = 1\n",
    "    while True:\n",
    "        new_path = f\"{base}({i}){ext}\"\n",
    "        if not os.path.exists(new_path):\n",
    "            return new_path\n",
    "        i += 1\n",
    "\n",
    "# نلف على كل ملف روابط\n",
    "for input_file in link_files:\n",
    "    print(f\"\\n📄 جاري قراءة الروابط من: {input_file}\")\n",
    "\n",
    "    # استخراج السنة من اسم الملف (مثلاً: \"2020\" من \"gstc_pdf_links_2020.txt\")\n",
    "    year = ''.join(filter(str.isdigit, input_file))\n",
    "    year_folder = os.path.join(base_download_folder, year)\n",
    "    os.makedirs(year_folder, exist_ok=True)\n",
    "\n",
    "    # قراءة الروابط مع الفلترة\n",
    "    with open(input_file, \"r\", encoding=\"utf-8\") as f:\n",
    "        all_links = [line.strip() for line in f if line.strip()]\n",
    "        links = [link for link in all_links if \"E-service-guideline\" not in link]\n",
    "\n",
    "    print(f\"📥 عدد الملفات المطلوب تحميلها من {input_file}: {len(links)} (بعد الفلترة)\")\n",
    "\n",
    "    for idx, url in enumerate(links, 1):\n",
    "        raw_name = url.split(\"/\")[-1]\n",
    "        filename = os.path.join(year_folder, raw_name)\n",
    "        filename = get_unique_filename(filename)\n",
    "\n",
    "        try:\n",
    "            print(f\"\\n⬇️ ({idx}/{len(links)}) من {input_file} - جاري تحميل: {filename}\")\n",
    "            with requests.get(url, stream=True, timeout=30) as response:\n",
    "                response.raise_for_status()\n",
    "\n",
    "                total_size = int(response.headers.get('content-length', 0))\n",
    "                with open(filename, \"wb\") as f, tqdm(\n",
    "                    total=total_size,\n",
    "                    unit='B',\n",
    "                    unit_scale=True,\n",
    "                    desc=os.path.basename(filename),\n",
    "                    ncols=80\n",
    "                ) as pbar:\n",
    "                    for chunk in response.iter_content(chunk_size=chunk_size):\n",
    "                        if chunk:\n",
    "                            f.write(chunk)\n",
    "                            pbar.update(len(chunk))\n",
    "\n",
    "        except Exception as e:\n",
    "            print(f\"❌ خطأ أثناء تحميل {url}: {e}\")\n",
    "\n",
    "print(\"\\n✅✅✅ تم تحميل جميع الملفات من جميع الملفات النصية بنجاح.\")\n"
   ]
  }
 ],
 "metadata": {
  "kernelspec": {
   "display_name": ".venv",
   "language": "python",
   "name": "python3"
  },
  "language_info": {
   "codemirror_mode": {
    "name": "ipython",
    "version": 3
   },
   "file_extension": ".py",
   "mimetype": "text/x-python",
   "name": "python",
   "nbconvert_exporter": "python",
   "pygments_lexer": "ipython3",
   "version": "3.12.7"
  }
 },
 "nbformat": 4,
 "nbformat_minor": 5
}
