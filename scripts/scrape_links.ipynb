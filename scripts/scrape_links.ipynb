{
 "cells": [
  {
   "cell_type": "markdown",
   "id": "07f77dd7",
   "metadata": {},
   "source": [
    "Scrape_links"
   ]
  },
  {
   "cell_type": "code",
   "execution_count": 2,
   "id": "b79228ca",
   "metadata": {},
   "outputs": [
    {
     "name": "stdout",
     "output_type": "stream",
     "text": [
      "\n",
      "📅 جاري معالجة سنة 2020 (1 صفحة)\n",
      "📄 [2020] تحميل الصفحة رقم 1 ...\n"
     ]
    },
    {
     "ename": "FileNotFoundError",
     "evalue": "[Errno 2] No such file or directory: '../data/gstc_pdf_links_2020.txt'",
     "output_type": "error",
     "traceback": [
      "\u001b[31m---------------------------------------------------------------------------\u001b[39m",
      "\u001b[31mFileNotFoundError\u001b[39m                         Traceback (most recent call last)",
      "\u001b[36mCell\u001b[39m\u001b[36m \u001b[39m\u001b[32mIn[2]\u001b[39m\u001b[32m, line 37\u001b[39m\n\u001b[32m     35\u001b[39m \u001b[38;5;66;03m# حفظ الروابط في ملف باسم السنة\u001b[39;00m\n\u001b[32m     36\u001b[39m filename = \u001b[33mf\u001b[39m\u001b[33m\"\u001b[39m\u001b[33m../data/gstc_pdf_links_\u001b[39m\u001b[38;5;132;01m{\u001b[39;00myear\u001b[38;5;132;01m}\u001b[39;00m\u001b[33m.txt\u001b[39m\u001b[33m\"\u001b[39m\n\u001b[32m---> \u001b[39m\u001b[32m37\u001b[39m \u001b[38;5;28;01mwith\u001b[39;00m \u001b[38;5;28;43mopen\u001b[39;49m\u001b[43m(\u001b[49m\u001b[43mfilename\u001b[49m\u001b[43m,\u001b[49m\u001b[43m \u001b[49m\u001b[33;43m\"\u001b[39;49m\u001b[33;43mw\u001b[39;49m\u001b[33;43m\"\u001b[39;49m\u001b[43m,\u001b[49m\u001b[43m \u001b[49m\u001b[43mencoding\u001b[49m\u001b[43m=\u001b[49m\u001b[33;43m\"\u001b[39;49m\u001b[33;43mutf-8\u001b[39;49m\u001b[33;43m\"\u001b[39;49m\u001b[43m)\u001b[49m \u001b[38;5;28;01mas\u001b[39;00m f:\n\u001b[32m     38\u001b[39m     \u001b[38;5;28;01mfor\u001b[39;00m link \u001b[38;5;129;01min\u001b[39;00m all_pdf_links:\n\u001b[32m     39\u001b[39m         f.write(link + \u001b[33m\"\u001b[39m\u001b[38;5;130;01m\\n\u001b[39;00m\u001b[33m\"\u001b[39m)\n",
      "\u001b[36mFile \u001b[39m\u001b[32mc:\\Users\\hasna\\Desktop\\web-scraping-collection\\.venv\\Lib\\site-packages\\IPython\\core\\interactiveshell.py:327\u001b[39m, in \u001b[36m_modified_open\u001b[39m\u001b[34m(file, *args, **kwargs)\u001b[39m\n\u001b[32m    320\u001b[39m \u001b[38;5;28;01mif\u001b[39;00m file \u001b[38;5;129;01min\u001b[39;00m {\u001b[32m0\u001b[39m, \u001b[32m1\u001b[39m, \u001b[32m2\u001b[39m}:\n\u001b[32m    321\u001b[39m     \u001b[38;5;28;01mraise\u001b[39;00m \u001b[38;5;167;01mValueError\u001b[39;00m(\n\u001b[32m    322\u001b[39m         \u001b[33mf\u001b[39m\u001b[33m\"\u001b[39m\u001b[33mIPython won\u001b[39m\u001b[33m'\u001b[39m\u001b[33mt let you open fd=\u001b[39m\u001b[38;5;132;01m{\u001b[39;00mfile\u001b[38;5;132;01m}\u001b[39;00m\u001b[33m by default \u001b[39m\u001b[33m\"\u001b[39m\n\u001b[32m    323\u001b[39m         \u001b[33m\"\u001b[39m\u001b[33mas it is likely to crash IPython. If you know what you are doing, \u001b[39m\u001b[33m\"\u001b[39m\n\u001b[32m    324\u001b[39m         \u001b[33m\"\u001b[39m\u001b[33myou can use builtins\u001b[39m\u001b[33m'\u001b[39m\u001b[33m open.\u001b[39m\u001b[33m\"\u001b[39m\n\u001b[32m    325\u001b[39m     )\n\u001b[32m--> \u001b[39m\u001b[32m327\u001b[39m \u001b[38;5;28;01mreturn\u001b[39;00m \u001b[43mio_open\u001b[49m\u001b[43m(\u001b[49m\u001b[43mfile\u001b[49m\u001b[43m,\u001b[49m\u001b[43m \u001b[49m\u001b[43m*\u001b[49m\u001b[43margs\u001b[49m\u001b[43m,\u001b[49m\u001b[43m \u001b[49m\u001b[43m*\u001b[49m\u001b[43m*\u001b[49m\u001b[43mkwargs\u001b[49m\u001b[43m)\u001b[49m\n",
      "\u001b[31mFileNotFoundError\u001b[39m: [Errno 2] No such file or directory: '../data/gstc_pdf_links_2020.txt'"
     ]
    }
   ],
   "source": [
    "from selenium import webdriver\n",
    "from selenium.webdriver.chrome.service import Service\n",
    "from selenium.webdriver.common.by import By\n",
    "import time\n",
    "\n",
    "options = webdriver.ChromeOptions()\n",
    "options.add_argument('--headless')\n",
    "driver = webdriver.Chrome(service=Service(), options=options)\n",
    "\n",
    "# تحديد السنوات وعدد الصفحات لكل سنة\n",
    "years_pages = {\n",
    "    \"2020\": 1,\n",
    "    \"2021\": 1\n",
    "}\n",
    "for year, total_pages in years_pages.items():\n",
    "    print(f\"\\n📅 جاري معالجة سنة {year} ({total_pages} صفحة)\")\n",
    "    \n",
    "    # رابط الأساس\n",
    "    base_url = f\"https://gstc.gov.sa/ar/Decisions/Pages/decisions.aspx?year={year}&committee=&classification=&PageIndex=\"\n",
    "    \n",
    "    all_pdf_links = []\n",
    "\n",
    "    for page_index in range(1, total_pages + 1):\n",
    "        url = base_url + str(page_index)\n",
    "        print(f\"📄 [{year}] تحميل الصفحة رقم {page_index} ...\")\n",
    "        driver.get(url)\n",
    "        time.sleep(2)  # انتظر تحميل الصفحة\n",
    "\n",
    "        anchors = driver.find_elements(By.TAG_NAME, \"a\")\n",
    "        for a in anchors:\n",
    "            href = a.get_attribute(\"href\")\n",
    "            if href and href.endswith(\".pdf\"):\n",
    "                all_pdf_links.append(href)\n",
    "\n",
    "    # حفظ الروابط في ملف باسم السنة\n",
    "    filename = f\"../data/gstc_pdf_links_{year}.txt\"\n",
    "    with open(filename, \"w\", encoding=\"utf-8\") as f:\n",
    "        for link in all_pdf_links:\n",
    "            f.write(link + \"\\n\")\n",
    "\n",
    "    print(f\"✅ [{year}] تم جمع {len(all_pdf_links)} رابط وحفظها في {filename}\")\n",
    "\n",
    "# إغلاق المتصفح\n",
    "driver.quit()\n",
    "print(\"\\n🏁 تم الانتهاء من جميع السنوات.\")\n"
   ]
  }
 ],
 "metadata": {
  "kernelspec": {
   "display_name": ".venv",
   "language": "python",
   "name": "python3"
  },
  "language_info": {
   "codemirror_mode": {
    "name": "ipython",
    "version": 3
   },
   "file_extension": ".py",
   "mimetype": "text/x-python",
   "name": "python",
   "nbconvert_exporter": "python",
   "pygments_lexer": "ipython3",
   "version": "3.12.7"
  }
 },
 "nbformat": 4,
 "nbformat_minor": 5
}
